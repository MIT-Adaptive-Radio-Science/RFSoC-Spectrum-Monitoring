{
 "cells": [
  {
   "cell_type": "code",
   "execution_count": 1,
   "id": "6ef0f981-6710-4913-b171-fd81aa561096",
   "metadata": {},
   "outputs": [
    {
     "data": {
      "application/javascript": [
       "\n",
       "try {\n",
       "require(['notebook/js/codecell'], function(codecell) {\n",
       "  codecell.CodeCell.options_default.highlight_modes[\n",
       "      'magic_text/x-csrc'] = {'reg':[/^%%microblaze/]};\n",
       "  Jupyter.notebook.events.one('kernel_ready.Kernel', function(){\n",
       "      Jupyter.notebook.get_cells().map(function(cell){\n",
       "          if (cell.cell_type == 'code'){ cell.auto_highlight(); } }) ;\n",
       "  });\n",
       "});\n",
       "} catch (e) {};\n"
      ]
     },
     "metadata": {},
     "output_type": "display_data"
    },
    {
     "data": {
      "application/javascript": [
       "\n",
       "try {\n",
       "require(['notebook/js/codecell'], function(codecell) {\n",
       "  codecell.CodeCell.options_default.highlight_modes[\n",
       "      'magic_text/x-csrc'] = {'reg':[/^%%pybind11/]};\n",
       "  Jupyter.notebook.events.one('kernel_ready.Kernel', function(){\n",
       "      Jupyter.notebook.get_cells().map(function(cell){\n",
       "          if (cell.cell_type == 'code'){ cell.auto_highlight(); } }) ;\n",
       "  });\n",
       "});\n",
       "} catch (e) {};\n"
      ]
     },
     "metadata": {},
     "output_type": "display_data"
    }
   ],
   "source": [
    "from pynq.overlays.base import BaseOverlay\n",
    "\n",
    "base = BaseOverlay('base.bit')"
   ]
  },
  {
   "cell_type": "code",
   "execution_count": 2,
   "id": "057783df-76b5-4470-bcdb-6bf18f35d89e",
   "metadata": {},
   "outputs": [],
   "source": [
    "base.init_rf_clks()"
   ]
  },
  {
   "cell_type": "code",
   "execution_count": null,
   "id": "54c0d764-db8e-458b-ac3d-b6de898ac37a",
   "metadata": {},
   "outputs": [
    {
     "name": "stdout",
     "output_type": "stream",
     "text": [
      "[<rfsystem.hierarchies.DacChannel object at 0xffff81d7b6d0>, <rfsystem.hierarchies.DacChannel object at 0xffff81d516a0>]\n",
      "4096000000.0\n",
      "1024000000.0\n"
     ]
    }
   ],
   "source": [
    "#!/usr/bin/env python\n",
    "\"\"\"\n",
    "\"\"\"\n",
    "import redis\n",
    "import numpy as np\n",
    "import json\n",
    "import time\n",
    "\n",
    "def set_transmitter_channel(channel, enable, gain, frequency):\n",
    "    channel.control.enable = enable\n",
    "    channel.control.gain = gain\n",
    "    channel.dac_block.MixerSettings['Freq'] = frequency\n",
    "    \n",
    "\n",
    "def run_stream():\n",
    "    \"\"\"Set ups a redis connection and updates data to the stream.\"\"\"\n",
    "    stream_name=\"bu_rfsoc\"\n",
    "    r = redis.Redis(host='155.41.48.219', port=6379, db=0,password='Qsh4r9.VlMj5_HrvY#0f36')\n",
    "    stream_name=\"bu_rfsoc\"\n",
    "    \n",
    "    number_samples = 1024\n",
    "    \n",
    "    channel = 0\n",
    "    window = np.array(np.blackman(number_samples)[:]) #take window from data\n",
    "    print(base.radio.transmitter.channel)\n",
    "    fs=base.radio.transmitter.channel[channel].dac_block.BlockStatus['SamplingFreq']*1e9\n",
    "    print(f'{fs}')\n",
    "        \n",
    "    r.sadd(\"active_streams\", stream_name)\n",
    "    \n",
    "    if channel == 1:\n",
    "        set_transmitter_channel(base.radio.transmitter.channel[1], True, 0.8,  600)\n",
    "\n",
    "    fc=base.radio.transmitter.channel[channel].dac_block.MixerSettings['Freq']*1e6\n",
    "    print(f'{fc}')\n",
    "\n",
    "    r.delete(f\"stream:{stream_name}\")\n",
    "\n",
    "    try:\n",
    "        while True:\n",
    "            cdata = base.radio.receiver.channel[channel].transfer(number_samples) #get complex data from ADCs\n",
    "            wdata=cdata*window\n",
    "            fdata=abs(np.fft.fftshift(np.fft.fft(wdata)))\n",
    "\n",
    "            y_max = max(fdata)\n",
    "            y_min = min(fdata)\n",
    "            \n",
    "            metadata = {\n",
    "                'sfreq':    fs,\n",
    "                'y_max':    y_max,\n",
    "                'y_min':    y_min,\n",
    "                'n_samples':number_samples,\n",
    "                'cfreq':    fc,\n",
    "                'channel':  channel\n",
    "            }\n",
    "            r.hset(f\"metadata:{stream_name}\", mapping=metadata)\n",
    "\n",
    "            x_json = json.dumps(fdata.tolist())\n",
    "            r.xadd(f\"stream:{stream_name}\", {'data': x_json}, maxlen=1000000)\n",
    "                        \n",
    "    finally:\n",
    "        print(\"ENTER FINALLY\")\n",
    "        r.srem(\"active_streams\", stream_name)\n",
    "        r.delete(f\"metadata:{stream_name}\")\n",
    "        r.delete(f\"stream:{stream_name}\")\n",
    "        \n",
    "if __name__ == '__main__':\n",
    "    run_stream()"
   ]
  },
  {
   "cell_type": "code",
   "execution_count": null,
   "id": "7943d98b-c6c8-485d-a9b0-35914e5d63e5",
   "metadata": {},
   "outputs": [],
   "source": []
  }
 ],
 "metadata": {
  "kernelspec": {
   "display_name": "Python 3",
   "language": "python",
   "name": "python3"
  },
  "language_info": {
   "codemirror_mode": {
    "name": "ipython",
    "version": 3
   },
   "file_extension": ".py",
   "mimetype": "text/x-python",
   "name": "python",
   "nbconvert_exporter": "python",
   "pygments_lexer": "ipython3",
   "version": "3.8.2"
  }
 },
 "nbformat": 4,
 "nbformat_minor": 5
}
